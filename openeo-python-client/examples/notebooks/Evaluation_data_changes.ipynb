{
 "cells": [
  {
   "cell_type": "markdown",
   "metadata": {},
   "source": [
    "# OpenEO Connection to Local EODC Backend"
   ]
  },
  {
   "cell_type": "code",
   "execution_count": 1,
   "metadata": {},
   "outputs": [
    {
     "name": "stderr",
     "output_type": "stream",
     "text": [
      "/home/berni/miniconda3/envs/noworkflow/lib/python3.6/importlib/_bootstrap.py:219: RuntimeWarning: numpy.dtype size changed, may indicate binary incompatibility. Expected 96, got 88\n",
      "  return f(*args, **kwds)\n"
     ]
    }
   ],
   "source": [
    "import openeo\n",
    "import time\n",
    "import logging\n",
    "logging.basicConfig(level=logging.INFO)"
   ]
  },
  {
   "cell_type": "code",
   "execution_count": 2,
   "metadata": {},
   "outputs": [],
   "source": [
    "# Define constants\n",
    "\n",
    "# west, south, east, north\n",
    "datasets = [\n",
    "{\"west\": 10.288696, \"south\": 45.935871, \"east\": 12.189331, \"north\": 46.905246, \"crs\": \"EPSG:4326\", \"begin\": \"2017-05-01\", \"end\": \"2017-05-31\"}, # running example\n",
    "{\"west\": 26.330109, \"south\": -16.023376, \"east\": 28.171692, \"north\": -15.253714, \"crs\": \"EPSG:4326\", \"begin\": \"2006-03-30\", \"end\": \"2006-03-30\"}, # http:// dx.doi.org/ 10.3390/ rs8050402 1\n",
    "{\"west\": 26.830673, \"south\": -15.307366, \"east\": 27.052460, \"north\": -15.113227, \"crs\": \"EPSG:4326\", \"begin\": \"2007-03-30\", \"end\": \"2007-03-30\"}, # http:// dx.doi.org/ 10.3390/ rs8050402 2\n",
    "{\"west\": 25.563812, \"south\": -14.429360, \"east\": 26.092529, \"north\": -13.980713, \"crs\": \"EPSG:4326\", \"begin\": \"2006-03-29\", \"end\": \"2006-03-31\"}, # http:// dx.doi.org/ 10.3390/ rs8050402 3\n",
    "{\"west\": -2.449951, \"south\": 51.771239, \"east\": -2.239838, \"north\": 51.890901, \"crs\": \"EPSG:4326\", \"begin\": \"2007-07-23\", \"end\": \"2007-07-23\"}, # http:// dx.doi.org/ 10.1016/ j.jag.2014.12.001 1\n",
    "{\"west\": -2.449951, \"south\": 51.771239, \"east\": -2.239838, \"north\": 51.890901, \"crs\": \"EPSG:4326\", \"begin\": \"2005-08-22\", \"end\": \"2005-08-22\"}, # http:// dx.doi.org/ 10.1016/ j.jag.2014.12.001 2\n",
    "{\"west\": -2.449951, \"south\": 51.771239, \"east\": -2.239838, \"north\": 51.890901, \"crs\": \"EPSG:4326\", \"begin\": \"2007-07-23\", \"end\": \"2007-07-24\"}, # http:// dx.doi.org/ 10.1016/j.jag.2016.12.003 1\n",
    "{\"west\": 16.506958, \"south\": 47.529257, \"east\": 17.188110, \"north\": 48.022998, \"crs\": \"EPSG:4326\", \"begin\": \"2007-07-23\", \"end\": \"2007-07-24\"}, # Big Data Infrastructures for Processing Sentinel Data, Wolfgang Wagner\n",
    "{\"west\": 104.276733, \"south\": 8.423470, \"east\": 106.809082, \"north\": 11.156845, \"crs\": \"EPSG:4326\", \"begin\": \"2007-01-01\", \"end\": \"2011-01-01\"}, # THE USE OF SAR BACKSCATTER TIME SERIES FOR CHARACTERISING RICE PHENOLOGY, DUY NGUYEN\n",
    "]\n",
    "\n",
    "# Connection\n",
    "LOCAL_EODC_DRIVER_URL = \"http://openeo.local.127.0.0.1.nip.io\"\n"
   ]
  },
  {
   "cell_type": "code",
   "execution_count": 3,
   "metadata": {},
   "outputs": [
    {
     "data": {
      "text/plain": [
       "<openeo.rest.rest_connection.RESTConnection at 0x7fcef019c438>"
      ]
     },
     "execution_count": 3,
     "metadata": {},
     "output_type": "execute_result"
    }
   ],
   "source": [
    "# Connect with GEE backend\n",
    "con = openeo.connect(LOCAL_EODC_DRIVER_URL)\n",
    "# Reset Mockupstate and database\n",
    "con.resetdb()\n",
    "con.update_file(None, False)\n",
    "con"
   ]
  },
  {
   "cell_type": "code",
   "execution_count": 4,
   "metadata": {},
   "outputs": [
    {
     "data": {
      "text/plain": [
       "{'process_id': 'min_time',\n",
       " 'imagery': {'process_id': 'NDVI',\n",
       "  'imagery': {'process_id': 'filter_bbox',\n",
       "   'imagery': {'process_id': 'filter_daterange',\n",
       "    'imagery': {'process_id': 'get_collection', 'name': 's2a_prd_msil1c'},\n",
       "    'extent': ['2017-05-01', '2017-05-31']},\n",
       "   'extent': {'west': 10.288696,\n",
       "    'east': 12.189331,\n",
       "    'north': 46.905246,\n",
       "    'south': 45.935871,\n",
       "    'crs': 'EPSG:4326'}},\n",
       "  'red': 'B04',\n",
       "  'nir': 'B08'}}"
      ]
     },
     "execution_count": 4,
     "metadata": {},
     "output_type": "execute_result"
    }
   ],
   "source": [
    "# Choose dataset\n",
    "processes = con.get_processes()\n",
    "pgA = processes.get_collection(name=\"s2a_prd_msil1c\")\n",
    "pgA = processes.filter_daterange(pgA, extent=[\"2017-05-01\", \"2017-05-31\"])\n",
    "pgA = processes.filter_bbox(pgA, west=10.288696, south=45.935871, east=12.189331, north=46.905246, crs=\"EPSG:4326\")\n",
    "\n",
    "# Choose processes\n",
    "pgA = processes.ndvi(pgA, nir=\"B08\", red=\"B04\")\n",
    "pgA = processes.min_time(pgA)\n",
    "pgA.graph"
   ]
  },
  {
   "cell_type": "code",
   "execution_count": 5,
   "metadata": {},
   "outputs": [
    {
     "data": {
      "text/plain": [
       "'jb-b5e000f9-f586-40d1-b0b8-c813e5d93b4b'"
      ]
     },
     "execution_count": 5,
     "metadata": {},
     "output_type": "execute_result"
    }
   ],
   "source": [
    "# Create job A out of the process graph A (pgA)\n",
    "jobA = con.create_job(pgA.graph)\n",
    "\n",
    "jobA.job_id"
   ]
  },
  {
   "cell_type": "code",
   "execution_count": 7,
   "metadata": {},
   "outputs": [
    {
     "data": {
      "text/plain": [
       "202"
      ]
     },
     "execution_count": 7,
     "metadata": {},
     "output_type": "execute_result"
    }
   ],
   "source": [
    "# Start job at the backend\n",
    "jobA.start_job()"
   ]
  },
  {
   "cell_type": "code",
   "execution_count": 8,
   "metadata": {},
   "outputs": [
    {
     "data": {
      "text/plain": [
       "'qu-a3bbe4a0-a875-4687-bb78-9457f33134a9'"
      ]
     },
     "execution_count": 8,
     "metadata": {},
     "output_type": "execute_result"
    }
   ],
   "source": [
    "# Wait until the job execution was finished\n",
    "desc = jobA.describe_job\n",
    "while desc[\"status\"] == \"submitted\":\n",
    "    desc = jobA.describe_job\n",
    "pidA = jobA.get_data_pid()\n",
    "pidA"
   ]
  },
  {
   "cell_type": "code",
   "execution_count": 11,
   "metadata": {
    "scrolled": false
   },
   "outputs": [
    {
     "data": {
      "text/plain": [
       "'EQUAL'"
      ]
     },
     "execution_count": 11,
     "metadata": {},
     "output_type": "execute_result"
    }
   ],
   "source": [
    "# re-execute query and get the resulting file list from the back end\n",
    "file_listA = con.get_filelist(pidA)\n",
    "file_listA[\"input_files\"][\"state\"]"
   ]
  },
  {
   "cell_type": "code",
   "execution_count": 12,
   "metadata": {},
   "outputs": [
    {
     "data": {
      "text/plain": [
       "True"
      ]
     },
     "execution_count": 12,
     "metadata": {},
     "output_type": "execute_result"
    }
   ],
   "source": [
    "''' 2. Update one of the resulting files of the PID-A query  '''\n",
    "\n",
    "#time.sleep(10)\n",
    "con.update_file()\n"
   ]
  },
  {
   "cell_type": "code",
   "execution_count": 13,
   "metadata": {},
   "outputs": [
    {
     "data": {
      "text/plain": [
       "'EQUAL'"
      ]
     },
     "execution_count": 13,
     "metadata": {},
     "output_type": "execute_result"
    }
   ],
   "source": [
    "''' 3. Get file list of PID-A  '''\n",
    "# re-execute query and get the resulting file list from the back end\n",
    "file2_listA = con.get_filelist(pidA)\n",
    "file2_listA[\"input_files\"][\"state\"]"
   ]
  },
  {
   "cell_type": "code",
   "execution_count": 14,
   "metadata": {},
   "outputs": [
    {
     "data": {
      "text/plain": [
       "202"
      ]
     },
     "execution_count": 14,
     "metadata": {},
     "output_type": "execute_result"
    }
   ],
   "source": [
    "''' 4. Run duplicate of Job A named Job B  '''\n",
    "# Reuse the defined process Graph from Job A to create Job B.\n",
    "jobB = con.create_job(pgA.graph)\n",
    "jobB.start_job()"
   ]
  },
  {
   "cell_type": "code",
   "execution_count": 15,
   "metadata": {},
   "outputs": [
    {
     "data": {
      "text/plain": [
       "'qu-23f5a313-e804-4faa-aa33-60ed1ac69e2d'"
      ]
     },
     "execution_count": 15,
     "metadata": {},
     "output_type": "execute_result"
    }
   ],
   "source": [
    "# Wait until the job execution was finished\n",
    "desc = jobB.describe_job\n",
    "while desc[\"status\"] == \"submitted\":\n",
    "    desc = jobB.describe_job\n",
    "pidB = jobB.get_data_pid()\n",
    "pidB"
   ]
  },
  {
   "cell_type": "code",
   "execution_count": 20,
   "metadata": {},
   "outputs": [
    {
     "data": {
      "text/plain": [
       "True"
      ]
     },
     "execution_count": 20,
     "metadata": {},
     "output_type": "execute_result"
    }
   ],
   "source": [
    "# re-execute query and get the resulting file list from the back end\n",
    "pidB = jobB.get_data_pid()\n",
    "file_listB = con.get_filelist(pidB)\n",
    "(file_listA != file_listB)\n"
   ]
  },
  {
   "cell_type": "code",
   "execution_count": 21,
   "metadata": {},
   "outputs": [],
   "source": [
    "''' 5. Run duplicate of Job A, by using the data PID of job A named Job C  '''\n",
    "# Take input data of job A by using the input data pid A of job A\n",
    "pgC = processes.get_collection(data_pid=pidA)\n",
    "\n",
    "# Choose processes\n",
    "pgC = processes.ndvi(pgC, nir=\"B08\", red=\"B04\")\n",
    "pgC = processes.min_time(pgC)"
   ]
  },
  {
   "cell_type": "code",
   "execution_count": 22,
   "metadata": {},
   "outputs": [],
   "source": [
    "# Create Job C\n",
    "jobC = con.create_job(pgC.graph)\n",
    "time.sleep(10)"
   ]
  },
  {
   "cell_type": "code",
   "execution_count": 23,
   "metadata": {},
   "outputs": [
    {
     "data": {
      "text/plain": [
       "202"
      ]
     },
     "execution_count": 23,
     "metadata": {},
     "output_type": "execute_result"
    }
   ],
   "source": [
    "# Start Job C\n",
    "jobC.start_job()"
   ]
  },
  {
   "cell_type": "code",
   "execution_count": 24,
   "metadata": {},
   "outputs": [
    {
     "data": {
      "text/plain": [
       "'qu-a3bbe4a0-a875-4687-bb78-9457f33134a9'"
      ]
     },
     "execution_count": 24,
     "metadata": {},
     "output_type": "execute_result"
    }
   ],
   "source": [
    "# Wait until the job execution was finished\n",
    "desc = jobC.describe_job\n",
    "while desc[\"status\"] == \"submitted\":\n",
    "    desc = jobC.describe_job\n",
    "pidC = jobC.get_data_pid()\n",
    "pidC"
   ]
  },
  {
   "cell_type": "code",
   "execution_count": 25,
   "metadata": {},
   "outputs": [
    {
     "data": {
      "text/plain": [
       "True"
      ]
     },
     "execution_count": 25,
     "metadata": {},
     "output_type": "execute_result"
    }
   ],
   "source": [
    "# re-execute query and get the resulting file list from the back end\n",
    "file_listC = con.get_filelist(pidC)\n",
    "(file_listA == file_listC)"
   ]
  },
  {
   "cell_type": "code",
   "execution_count": 26,
   "metadata": {},
   "outputs": [
    {
     "data": {
      "text/plain": [
       "True"
      ]
     },
     "execution_count": 26,
     "metadata": {},
     "output_type": "execute_result"
    }
   ],
   "source": [
    "''' 6. Delete the old file of the updated one '''\n",
    "con.update_file(deleted=True)\n"
   ]
  },
  {
   "cell_type": "code",
   "execution_count": 35,
   "metadata": {
    "scrolled": false
   },
   "outputs": [
    {
     "data": {
      "text/plain": [
       "'[\"\\'date\\': \\'2017-05-24\\', \\'timestamp\\': \\'2018-08-11\\', \\'path\\': \\'/eodc/products/copernicus.eu/s2a_prd_msil1c/2017/05/24/S2A_MSIL1C_20170524T101031_N0205_R022_T32TQR_20170524T101353.zip\\', \\'name\\': \\'S2A_MSIL1C_20170524T101031_N0205_R022_T32TQR_20170524T101353\\'}]: s2a_prd_msil1c <data.dependencies.arg_parser.BBox object at 0x7f90f9f03a20> 2017-05-01T00:00:00Z 2017-05-31T23:59:59Z\"]'"
      ]
     },
     "execution_count": 35,
     "metadata": {},
     "output_type": "execute_result"
    }
   ],
   "source": [
    "''' 7. Get Filelist of PID-A '''\n",
    "# re-execute query and get the resulting file list from the back end\n",
    "file_listA = con.get_filelist(pidA)\n",
    "file_listA[\"input_files\"][\"state\"]"
   ]
  },
  {
   "cell_type": "code",
   "execution_count": 34,
   "metadata": {},
   "outputs": [],
   "source": [
    "''' 8. Run duplicate of Job A, by using the data PID of job A named Job D  '''\n",
    "# Take input data of job A by using the input data pid A of job A\n",
    "pgD = processes.get_collection(data_pid=pidA)\n",
    "\n",
    "# Choose processes\n",
    "pgD = processes.ndvi(pgC, nir=\"B08\", red=\"B04\")\n",
    "pgD = processes.min_time(pgD)\n"
   ]
  },
  {
   "cell_type": "code",
   "execution_count": 30,
   "metadata": {},
   "outputs": [],
   "source": [
    "# Create Job D\n",
    "jobD = con.create_job(pgD.graph)\n",
    "time.sleep(5)"
   ]
  },
  {
   "cell_type": "code",
   "execution_count": 31,
   "metadata": {},
   "outputs": [
    {
     "data": {
      "text/plain": [
       "202"
      ]
     },
     "execution_count": 31,
     "metadata": {},
     "output_type": "execute_result"
    }
   ],
   "source": [
    "# Start Job D\n",
    "jobD.start_job()"
   ]
  },
  {
   "cell_type": "code",
   "execution_count": 32,
   "metadata": {},
   "outputs": [
    {
     "data": {
      "text/plain": [
       "'qu-3544aeae-cd24-4b6d-ad34-0d674c2a400f'"
      ]
     },
     "execution_count": 32,
     "metadata": {},
     "output_type": "execute_result"
    }
   ],
   "source": [
    "# Wait until the job execution was finished\n",
    "desc = jobD.describe_job\n",
    "while desc[\"status\"] == \"submitted\":\n",
    "    desc = jobD.describe_job\n",
    "pidD = jobD.get_data_pid()\n",
    "pidD"
   ]
  },
  {
   "cell_type": "code",
   "execution_count": 33,
   "metadata": {},
   "outputs": [
    {
     "data": {
      "text/plain": [
       "True"
      ]
     },
     "execution_count": 33,
     "metadata": {},
     "output_type": "execute_result"
    }
   ],
   "source": [
    "((pidD != pidB) and (pidD != pidA))"
   ]
  },
  {
   "cell_type": "code",
   "execution_count": null,
   "metadata": {},
   "outputs": [],
   "source": []
  }
 ],
 "metadata": {
  "kernelspec": {
   "display_name": "Python 3",
   "language": "python",
   "name": "python3"
  },
  "language_info": {
   "codemirror_mode": {
    "name": "ipython",
    "version": 3
   },
   "file_extension": ".py",
   "mimetype": "text/x-python",
   "name": "python",
   "nbconvert_exporter": "python",
   "pygments_lexer": "ipython3",
   "version": "3.6.6"
  }
 },
 "nbformat": 4,
 "nbformat_minor": 2
}
