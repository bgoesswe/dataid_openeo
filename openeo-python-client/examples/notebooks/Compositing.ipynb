{
 "cells": [
  {
   "cell_type": "markdown",
   "metadata": {},
   "source": [
    "# Open-EO Proof Of Concept: Compositing\n",
    "This notebook explains and demonstrates the OpenEO client API, as well as some concepts of the core API."
   ]
  },
  {
   "cell_type": "markdown",
   "metadata": {},
   "source": [
    "The OpenEO client API is distributed as a lightweight Python module. The dependencies of this module are limited to a set of well known modules such as numpy and pandas. This should allow it to run in different environments, and as part of larger workflows.\n",
    "To get started, we import OpenEO, and set up standard Python logging."
   ]
  },
  {
   "cell_type": "code",
   "execution_count": 71,
   "metadata": {},
   "outputs": [],
   "source": [
    "import openeo\n",
    "import logging\n",
    "logging.basicConfig(level=logging.INFO)\n",
    "# TODO: Deprecated: release-0.0.2, Update to 0.3.1 version"
   ]
  },
  {
   "cell_type": "markdown",
   "metadata": {},
   "source": [
    "To connect with an OpenEO backend, we create a session. Each OpenEO backend has a different endpoint, metadata and credentials. A session object contains this information, and is the starting point for subsequent calls. "
   ]
  },
  {
   "cell_type": "code",
   "execution_count": 72,
   "metadata": {},
   "outputs": [],
   "source": [
    "session = openeo.session(\"nobody\", \"http://openeo.vgt.vito.be\")"
   ]
  },
  {
   "cell_type": "markdown",
   "metadata": {},
   "source": [
    "Our first use case is to create a composite image by taking the maximum pixel value over a timeseries of images.\n",
    "To do this, we first need to select input data. Each OpenEO endpoint exposes it's own list of image collections.\n",
    "For instance: http://openeo.vgt.vito.be/openeo/data\n",
    "\n",
    "Preferably, these layers and their descriptions and metadata can be browsed online, so a user can discover data that suits his needs.\n",
    "\n",
    "In this example, the collection id is 'S2_FAPAR_V101', which corresponds to the fAPAR biophysical parameter at 10M resolution over Belgium, derived from Sentinel 2 data.\n",
    "\n",
    "In the client code, the user can create an image collection quite easily. This is just an empty object on which further operations need to be defined:"
   ]
  },
  {
   "cell_type": "code",
   "execution_count": 73,
   "metadata": {},
   "outputs": [
    {
     "data": {
      "text/plain": [
       "<openeo.rest.imagecollection.RestImageCollection at 0x7f83318fb5f8>"
      ]
     },
     "execution_count": 73,
     "metadata": {},
     "output_type": "execute_result"
    }
   ],
   "source": [
    "s2_radiometry = session.imagecollection(\"CGS_SENTINEL2_RADIOMETRY_V101\")\n",
    "s2_radiometry"
   ]
  },
  {
   "cell_type": "markdown",
   "metadata": {},
   "source": [
    "As the image collection can be quite large, a first step is usually to define a spatial and temporal subset on which we want to operate. This can be done by specifying a date range and a bounding box:"
   ]
  },
  {
   "cell_type": "code",
   "execution_count": 74,
   "metadata": {},
   "outputs": [
    {
     "data": {
      "text/plain": [
       "<openeo.rest.imagecollection.RestImageCollection at 0x7f8331865b00>"
      ]
     },
     "execution_count": 74,
     "metadata": {},
     "output_type": "execute_result"
    }
   ],
   "source": [
    "#.bbox_filter(left=4.3,right=5.0,top=50.55,bottom=50.28,srs=\"EPSG:4326\")\n",
    "timeseries = s2_radiometry\\\n",
    ".date_range_filter(\"2017-10-14\",\"2017-10-17\")\\\n",
    ".bbox_filter(left=761104,right=763281,bottom=6543830,top=6544655,srs=\"EPSG:3857\")\n",
    "timeseries"
   ]
  },
  {
   "cell_type": "code",
   "execution_count": 75,
   "metadata": {},
   "outputs": [],
   "source": [
    "bandFunction = lambda cells,nodata: (cells[3]-cells[2])/(cells[3]+cells[2])\n",
    "ndvi_timeseries = timeseries.apply_pixel([], bandFunction)"
   ]
  },
  {
   "cell_type": "markdown",
   "metadata": {},
   "source": [
    "Now we're all set to compute the composite, the max_time function allows us to specify the function that needs to be applied, but does not yet compute a result:"
   ]
  },
  {
   "cell_type": "code",
   "execution_count": 76,
   "metadata": {},
   "outputs": [
    {
     "name": "stdout",
     "output_type": "stream",
     "text": [
      "CPU times: user 0 ns, sys: 0 ns, total: 0 ns\n",
      "Wall time: 81.3 µs\n"
     ]
    },
    {
     "data": {
      "text/plain": [
       "<openeo.rest.imagecollection.RestImageCollection at 0x7f8331865c88>"
      ]
     },
     "execution_count": 76,
     "metadata": {},
     "output_type": "execute_result"
    }
   ],
   "source": [
    "%time composite = ndvi_timeseries.max_time()\n",
    "composite"
   ]
  },
  {
   "cell_type": "markdown",
   "metadata": {},
   "source": [
    "Up to this point, the OpenEO backend has not yet received a request for computation. We have only specified what is called a 'process graph' in OpenEO terms.\n",
    "We can do a few things with a process graph, let's start with downloading its result as a GeoTiff:"
   ]
  },
  {
   "cell_type": "code",
   "execution_count": 77,
   "metadata": {},
   "outputs": [
    {
     "name": "stderr",
     "output_type": "stream",
     "text": [
      "DEBUG:urllib3.connectionpool:Starting new HTTP connection (1): openeo.vgt.vito.be\n",
      "DEBUG:urllib3.connectionpool:http://openeo.vgt.vito.be:80 \"POST /openeo/execute HTTP/1.1\" 200 16785777\n"
     ]
    },
    {
     "name": "stdout",
     "output_type": "stream",
     "text": [
      "CPU times: user 249 ms, sys: 199 ms, total: 448 ms\n",
      "Wall time: 15.8 s\n"
     ]
    }
   ],
   "source": [
    "%time composite.download(\"./openeo-ndvi-composite.geotiff\",\"geotiff\")"
   ]
  },
  {
   "cell_type": "markdown",
   "metadata": {},
   "source": [
    "The debug logging shows us that this call has sent our 'process graph' to: /openeo/execute. This particular composite took only 48 seconds to compute over a timeseries of about 5 months worth of input data. \n",
    "\n",
    "This shows one of the key points of OpenEO: the algorithm gets distributed over processing resources close to the data, which can greatly speed up processing.\n",
    "\n",
    "Now it's time to inspect our result. One way is to use gdalinfo:"
   ]
  },
  {
   "cell_type": "code",
   "execution_count": 78,
   "metadata": {},
   "outputs": [
    {
     "name": "stdout",
     "output_type": "stream",
     "text": [
      "-rw-r--r--. 1 driesj driesj 23M Mar  2 20:30 openeo-composite.geotiff\n",
      "-rw-r--r--. 1 driesj driesj 878 Mar  2 20:44 openeo-composite.geotiff.aux.xml\n",
      "Driver: GTiff/GeoTIFF\n",
      "Files: openeo-ndvi-composite.geotiff\n",
      "Size is 2048, 1024\n",
      "Coordinate System is:\n",
      "PROJCS[\"WGS 84 / Pseudo-Mercator\",\n",
      "    GEOGCS[\"WGS 84\",\n",
      "        DATUM[\"WGS_1984\",\n",
      "            SPHEROID[\"WGS 84\",6378137,298.257223563,\n",
      "                AUTHORITY[\"EPSG\",\"7030\"]],\n",
      "            AUTHORITY[\"EPSG\",\"6326\"]],\n",
      "        PRIMEM[\"Greenwich\",0,\n",
      "            AUTHORITY[\"EPSG\",\"8901\"]],\n",
      "        UNIT[\"degree\",0.0174532925199433,\n",
      "            AUTHORITY[\"EPSG\",\"9122\"]],\n",
      "        AUTHORITY[\"EPSG\",\"4326\"]],\n",
      "    PROJECTION[\"Mercator_1SP\"],\n",
      "    PARAMETER[\"central_meridian\",0],\n",
      "    PARAMETER[\"scale_factor\",1],\n",
      "    PARAMETER[\"false_easting\",0],\n",
      "    PARAMETER[\"false_northing\",0],\n",
      "    UNIT[\"metre\",1,\n",
      "        AUTHORITY[\"EPSG\",\"9001\"]],\n",
      "    AXIS[\"X\",EAST],\n",
      "    AXIS[\"Y\",NORTH],\n",
      "    EXTENSION[\"PROJ4\",\"+proj=merc +a=6378137 +b=6378137 +lat_ts=0.0 +lon_0=0.0 +x_0=0.0 +y_0=0 +k=1.0 +units=m +nadgrids=@null +wktext +no_defs\"],\n",
      "    AUTHORITY[\"EPSG\",\"3857\"]]\n",
      "Origin = (761007.053607214242220,6544844.109889931976795)\n",
      "Pixel Size = (1.194328566956756,-1.194328566956756)\n",
      "Metadata:\n",
      "  AREA_OR_POINT=Area\n",
      "Image Structure Metadata:\n",
      "  INTERLEAVE=BAND\n",
      "Corner Coordinates:\n",
      "Upper Left  (  761007.054, 6544844.110) (  6d50'10.47\"E, 50d33'56.86\"N)\n",
      "Lower Left  (  761007.054, 6543621.117) (  6d50'10.47\"E, 50d33'31.73\"N)\n",
      "Upper Right (  763453.039, 6544844.110) (  6d51'29.58\"E, 50d33'56.86\"N)\n",
      "Lower Right (  763453.039, 6543621.117) (  6d51'29.58\"E, 50d33'31.73\"N)\n",
      "Center      (  762230.046, 6544232.614) (  6d50'50.02\"E, 50d33'44.30\"N)\n",
      "Band 1 Block=2048x1 Type=Float64, ColorInterp=Gray\n",
      "0...10...20...30...40...50...60...70...80...90...100 - done.\n",
      "  256 buckets from 0.342487 to 0.935042:\n",
      "  338 0 0 169 0 0 0 0 0 0 0 0 0 0 169 0 169 0 0 0 0 0 182 0 182 0 0 0 0 0 0 0 0 0 182 0 0 182 0 169 0 169 169 0 0 0 0 0 0 0 0 0 0 0 0 0 0 0 0 0 169 169 0 0 0 0 0 0 0 0 0 0 0 169 0 169 169 0 0 0 0 0 0 169 169 0 0 0 0 0 0 0 0 0 0 182 338 338 0 0 0 0 0 338 169 169 169 533 169 0 169 494 182 871 520 689 858 0 871 871 351 845 1210 1040 689 1027 1365 1222 2067 1913 2250 2458 1690 1924 2873 2886 5018 3095 3261 2796 3718 4148 4588 3445 5020 5604 4628 5513 4603 6462 5279 7216 6865 7079 8335 9139 8216 8975 9243 9882 9842 8465 8282 9485 9050 13848 13451 11104 12907 14432 11247 13172 14963 14691 15744 15306 19524 13845 15488 17467 15252 16316 16917 13831 16408 16746 17710 17435 19213 19777 17553 17677 19202 19400 20475 19630 17383 18512 19632 21158 22807 22391 21185 25021 20541 25443 20660 24669 20156 27707 24395 26461 25899 27135 29130 22917 24805 25623 25877 30095 27318 28811 27563 33141 31646 30955 34492 35589 34702 33971 41358 36011 36647 32142 30051 32734 32312 28916 29432 27001 24524 22086 23853 16068 15914 13196 11209 9597 6410 3939 4565 2288 1365 1014 351 676 \n",
      "  NoData Value=nan\n",
      "  Metadata:\n",
      "    STATISTICS_MAXIMUM=0.93388429752066\n",
      "    STATISTICS_MEAN=0.8173643633321\n",
      "    STATISTICS_MINIMUM=0.34364427259546\n",
      "    STATISTICS_STDDEV=0.067871348841396\n"
     ]
    }
   ],
   "source": [
    "!ls -lh openeo-composite.*\n",
    "!rm openeo-ndvi-composite.geotiff.aux.xml\n",
    "!gdalinfo -hist openeo-ndvi-composite.geotiff"
   ]
  },
  {
   "cell_type": "markdown",
   "metadata": {},
   "source": [
    "## Retrieving a timeseries for a point\n",
    "Instead of reducing our timeseries of images into a composite, we can also request each value for a given geographical coordinate. \n",
    "\n",
    "This call can be executed directly on the timeseries that we defined earlier:"
   ]
  },
  {
   "cell_type": "code",
   "execution_count": 79,
   "metadata": {},
   "outputs": [
    {
     "name": "stderr",
     "output_type": "stream",
     "text": [
      "DEBUG:urllib3.connectionpool:Starting new HTTP connection (1): openeo.vgt.vito.be\n",
      "DEBUG:urllib3.connectionpool:http://openeo.vgt.vito.be:80 \"POST /openeo/timeseries/point?x=6.84638&y=50.56302&srs=EPSG:4326 HTTP/1.1\" 200 64\n"
     ]
    },
    {
     "name": "stdout",
     "output_type": "stream",
     "text": [
      "CPU times: user 18.1 ms, sys: 3.17 ms, total: 21.3 ms\n",
      "Wall time: 9.11 s\n"
     ]
    },
    {
     "data": {
      "text/plain": [
       "{'2017-10-15T00:00:00+00:00': [0.8700305810397554]}"
      ]
     },
     "execution_count": 79,
     "metadata": {},
     "output_type": "execute_result"
    }
   ],
   "source": [
    "%time point_timeseries = ndvi_timeseries.timeseries(6.84638,50.56302,srs=\"EPSG:4326\")\n",
    "point_timeseries.json()"
   ]
  },
  {
   "cell_type": "code",
   "execution_count": 80,
   "metadata": {},
   "outputs": [
    {
     "data": {
      "text/plain": [
       "<matplotlib.axes._subplots.AxesSubplot at 0x7f8331815c88>"
      ]
     },
     "execution_count": 80,
     "metadata": {},
     "output_type": "execute_result"
    },
    {
     "data": {
      "image/png": "[encoded data removed]"
     },
     "metadata": {},
     "output_type": "display_data"
    }
   ],
   "source": [
    "import pandas as pd\n",
    "series_df = pd.DataFrame.from_dict(point_timeseries.json(), orient=\"index\")\n",
    "series_df.index = pd.to_datetime(series_df.index)\n",
    "import seaborn as sns\n",
    "%matplotlib inline\n",
    "series_df.dropna().plot()"
   ]
  },
  {
   "cell_type": "code",
   "execution_count": 81,
   "metadata": {},
   "outputs": [],
   "source": [
    "series_df.dropna()"
   ]
  }
 ],
 "metadata": {
  "kernelspec": {
   "display_name": "Python 3",
   "language": "python",
   "name": "python3"
  },
  "language_info": {
   "codemirror_mode": {
    "name": "ipython",
    "version": 3
   },
   "file_extension": ".py",
   "mimetype": "text/x-python",
   "name": "python",
   "nbconvert_exporter": "python",
   "pygments_lexer": "ipython3",
   "version": "3.6.4"
  }
 },
 "nbformat": 4,
 "nbformat_minor": 2
}
