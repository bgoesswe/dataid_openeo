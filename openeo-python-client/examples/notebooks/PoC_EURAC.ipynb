{
 "cells": [
  {
   "cell_type": "markdown",
   "metadata": {},
   "source": [
    "# OpenEO Connection to EURAC Backend"
   ]
  },
  {
   "cell_type": "code",
   "execution_count": 1,
   "metadata": {},
   "outputs": [],
   "source": [
    "import openeo\n",
    "import logging\n",
    "logging.basicConfig(level=logging.INFO)"
   ]
  },
  {
   "cell_type": "code",
   "execution_count": 2,
   "metadata": {},
   "outputs": [],
   "source": [
    "# Define constants\n",
    "\n",
    "# Connection\n",
    "EURAC_DRIVER_URL = \"http://saocompute.eurac.edu/openEO_WCPS_Driver/openeo\"\n",
    "OUTPUT_FILE = \"/tmp/openeo-wcps.nc\"\n",
    "OUTFORMAT = \"netcdf\"\n",
    "\n",
    "# Data\n",
    "PRODUCT_ID = \"S2_L2A_T32TPS_20M\"\n",
    "\n",
    "DATE_START = \"2017-01-01\"\n",
    "DATE_END = \"2017-01-31\"\n",
    "\n",
    "IMAGE_LEFT = 652000\n",
    "IMAGE_RIGHT = 672000\n",
    "IMAGE_TOP = 5161000\n",
    "IMAGE_BOTTOM = 5181000\n",
    "IMAGE_SRS = \"EPSG:32632\"\n",
    "\n",
    "# Processes\n",
    "NDVI_RED = \"B04\"\n",
    "NDVI_NIR = \"B8A\""
   ]
  },
  {
   "cell_type": "code",
   "execution_count": 3,
   "metadata": {},
   "outputs": [
    {
     "data": {
      "text/plain": [
       "<openeo.rest.rest_session.RESTSession at 0x7f13fde9d6a0>"
      ]
     },
     "execution_count": 3,
     "metadata": {},
     "output_type": "execute_result"
    }
   ],
   "source": [
    "# Connect with EURAC backend\n",
    "session = openeo.session(\"nobody\", EURAC_DRIVER_URL)\n",
    "session"
   ]
  },
  {
   "cell_type": "code",
   "execution_count": 4,
   "metadata": {},
   "outputs": [
    {
     "data": {
      "text/plain": [
       "[{'product_id': 's1a_t117_epsg3035_20m_VV'},\n",
       " {'product_id': 'S2_L2A_T32TQS_10M'},\n",
       " {'product_id': 'S2_L2A_T32TQS_20M'},\n",
       " {'product_id': 'S2_L2A_T32TPT_20M'},\n",
       " {'product_id': 'S2A_L2A_NDVI_T32TPS'}]"
      ]
     },
     "execution_count": 4,
     "metadata": {},
     "output_type": "execute_result"
    }
   ],
   "source": [
    "# Retrieve the list of available collections\n",
    "collections = session.list_collections()\n",
    "\n",
    "list(collections)[:5]"
   ]
  },
  {
   "cell_type": "code",
   "execution_count": 5,
   "metadata": {},
   "outputs": [
    {
     "data": {
      "text/plain": [
       "<openeo.rest.imagery.RestImagery at 0x7f13fde9d668>"
      ]
     },
     "execution_count": 5,
     "metadata": {},
     "output_type": "execute_result"
    }
   ],
   "source": [
    "# Select collection product\n",
    "s2_fapar = session.image(PRODUCT_ID)\n",
    "\n",
    "s2_fapar"
   ]
  },
  {
   "cell_type": "code",
   "execution_count": 6,
   "metadata": {},
   "outputs": [],
   "source": [
    "# Specifying the date range and the bounding box\n",
    "download = s2_fapar \\\n",
    "    .bbox_filter(left=IMAGE_LEFT, right=IMAGE_RIGHT, top=IMAGE_TOP, bottom=IMAGE_BOTTOM,srs=IMAGE_SRS) \\\n",
    "    .date_range_filter(DATE_START, DATE_END) \\\n",
    "    .ndvi(NDVI_RED, NDVI_NIR) \\\n",
    "    .max_time() \\\n",
    "    .download(OUTPUT_FILE,format=OUTFORMAT)\n",
    "    \n",
    "download"
   ]
  },
  {
   "cell_type": "code",
   "execution_count": 7,
   "metadata": {},
   "outputs": [
    {
     "name": "stdout",
     "output_type": "stream",
     "text": [
      "odict_keys(['B8A', 'E', 'N'])\n",
      "<class 'netCDF4._netCDF4.Variable'>\n",
      "float64 B8A(E, N)\n",
      "    missing_value: NaN\n",
      "    units: 10^0\n",
      "unlimited dimensions: \n",
      "current shape = (1000, 1000)\n",
      "filling off\n",
      "\n"
     ]
    },
    {
     "name": "stderr",
     "output_type": "stream",
     "text": [
      "/data/.pyenv/versions/miniconda3-latest/envs/openeo-client/lib/python3.6/site-packages/ipykernel_launcher.py:14: UserWarning: WARNING: missing_value not used since it\n",
      "cannot be safely cast to variable data type\n",
      "  \n"
     ]
    }
   ],
   "source": [
    "import matplotlib.pyplot as plt\n",
    "import netCDF4\n",
    "import numpy as np\n",
    "\n",
    "# open a local NetCDF file or remote OPeNDAP URL\n",
    "url = '/tmp/openeo-wcps.nc'\n",
    "nc = netCDF4.Dataset(url)\n",
    "\n",
    "# examine the variables\n",
    "print (nc.variables.keys())\n",
    "print (nc.variables['B8A'])\n",
    "\n",
    "# sample every 10th point of the 'B8A' variable\n",
    "topo = nc.variables['B8A'][::1,::1]\n",
    "topo = np.flipud(np.rot90(topo)) \n",
    "\n",
    "# make image\n",
    "plt.figure(figsize=(100,100))\n",
    "plt.imshow(topo,origin='lower') \n",
    "plt.title('EURAC Plot')\n",
    "plt.savefig('/tmp/image.png', bbox_inches=0)"
   ]
  },
  {
   "cell_type": "code",
   "execution_count": null,
   "metadata": {},
   "outputs": [],
   "source": [
    ""
   ]
  }
 ],
 "metadata": {
  "kernelspec": {
   "display_name": "Python 3",
   "language": "python",
   "name": "python3"
  },
  "language_info": {
   "codemirror_mode": {
    "name": "ipython",
    "version": 3
   },
   "file_extension": ".py",
   "mimetype": "text/x-python",
   "name": "python",
   "nbconvert_exporter": "python",
   "pygments_lexer": "ipython3",
   "version": "3.6.4"
  }
 },
 "nbformat": 4,
 "nbformat_minor": 2
}
