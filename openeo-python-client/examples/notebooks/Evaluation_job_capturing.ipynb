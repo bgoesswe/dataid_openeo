{
 "cells": [
  {
   "cell_type": "markdown",
   "metadata": {},
   "source": [
    "# Job Capturing Evaluation"
   ]
  },
  {
   "cell_type": "code",
   "execution_count": 1,
   "metadata": {},
   "outputs": [],
   "source": [
    "import openeo\n",
    "import time\n",
    "import logging\n",
    "logging.basicConfig(level=logging.INFO)"
   ]
  },
  {
   "cell_type": "code",
   "execution_count": 2,
   "metadata": {},
   "outputs": [],
   "source": [
    "# Define constants\n",
    "\n",
    "# west, south, east, north\n",
    "datasets = [\n",
    "{\"west\": 10.288696, \"south\": 45.935871, \"east\": 12.189331, \"north\": 46.905246, \"crs\": \"EPSG:4326\", \"begin\": \"2017-05-01\", \"end\": \"2017-05-31\"}, # running example\n",
    "{\"west\": 26.330109, \"south\": -16.023376, \"east\": 28.171692, \"north\": -15.253714, \"crs\": \"EPSG:4326\", \"begin\": \"2006-03-30\", \"end\": \"2006-03-30\"}, # http:// dx.doi.org/ 10.3390/ rs8050402 1\n",
    "{\"west\": 26.830673, \"south\": -15.307366, \"east\": 27.052460, \"north\": -15.113227, \"crs\": \"EPSG:4326\", \"begin\": \"2007-03-30\", \"end\": \"2007-03-30\"}, # http:// dx.doi.org/ 10.3390/ rs8050402 2\n",
    "{\"west\": 25.563812, \"south\": -14.429360, \"east\": 26.092529, \"north\": -13.980713, \"crs\": \"EPSG:4326\", \"begin\": \"2006-03-29\", \"end\": \"2006-03-31\"}, # http:// dx.doi.org/ 10.3390/ rs8050402 3\n",
    "{\"west\": -2.449951, \"south\": 51.771239, \"east\": -2.239838, \"north\": 51.890901, \"crs\": \"EPSG:4326\", \"begin\": \"2007-07-23\", \"end\": \"2007-07-23\"}, # http:// dx.doi.org/ 10.1016/ j.jag.2014.12.001 1\n",
    "{\"west\": -2.449951, \"south\": 51.771239, \"east\": -2.239838, \"north\": 51.890901, \"crs\": \"EPSG:4326\", \"begin\": \"2005-08-22\", \"end\": \"2005-08-22\"}, # http:// dx.doi.org/ 10.1016/ j.jag.2014.12.001 2\n",
    "{\"west\": -2.449951, \"south\": 51.771239, \"east\": -2.239838, \"north\": 51.890901, \"crs\": \"EPSG:4326\", \"begin\": \"2007-07-23\", \"end\": \"2007-07-24\"}, # http:// dx.doi.org/ 10.1016/j.jag.2016.12.003 1\n",
    "{\"west\": 16.506958, \"south\": 47.529257, \"east\": 17.188110, \"north\": 48.022998, \"crs\": \"EPSG:4326\", \"begin\": \"2007-07-23\", \"end\": \"2007-07-24\"}, # Big Data Infrastructures for Processing Sentinel Data, Wolfgang Wagner\n",
    "{\"west\": 104.276733, \"south\": 8.423470, \"east\": 106.809082, \"north\": 11.156845, \"crs\": \"EPSG:4326\", \"begin\": \"2007-01-01\", \"end\": \"2011-01-01\"}, # THE USE OF SAR BACKSCATTER TIME SERIES FOR CHARACTERISING RICE PHENOLOGY, DUY NGUYEN\n",
    "]\n",
    "\n",
    "# Connection\n",
    "LOCAL_EODC_DRIVER_URL = \"http://openeo.local.127.0.0.1.nip.io\"\n"
   ]
  },
  {
   "cell_type": "code",
   "execution_count": 3,
   "metadata": {},
   "outputs": [
    {
     "data": {
      "text/plain": [
       "<openeo.rest.rest_connection.RESTConnection at 0x7f57114009e8>"
      ]
     },
     "execution_count": 3,
     "metadata": {},
     "output_type": "execute_result"
    }
   ],
   "source": [
    "# Connect with GEE backend\n",
    "con = openeo.connect(LOCAL_EODC_DRIVER_URL)\n",
    "# Reset Mockupstate and database\n",
    "con.resetdb()\n",
    "con"
   ]
  },
  {
   "cell_type": "code",
   "execution_count": 4,
   "metadata": {},
   "outputs": [
    {
     "data": {
      "text/plain": [
       "{'imagery': {'imagery': {'extent': {'crs': 'EPSG:4326',\n",
       "    'east': 12.189331,\n",
       "    'north': 46.905246,\n",
       "    'south': 45.935871,\n",
       "    'west': 10.288696},\n",
       "   'imagery': {'extent': ['2017-05-01', '2017-05-31'],\n",
       "    'imagery': {'name': 's2a_prd_msil1c', 'process_id': 'get_collection'},\n",
       "    'process_id': 'filter_daterange'},\n",
       "   'process_id': 'filter_bbox'},\n",
       "  'nir': 'B08',\n",
       "  'process_id': 'NDVI',\n",
       "  'red': 'B04'},\n",
       " 'process_id': 'min_time'}"
      ]
     },
     "execution_count": 4,
     "metadata": {},
     "output_type": "execute_result"
    }
   ],
   "source": [
    "# Choose dataset\n",
    "processes = con.get_processes()\n",
    "pgA = processes.get_collection(name=\"s2a_prd_msil1c\")\n",
    "pgA = processes.filter_daterange(pgA, extent=[\"2017-05-01\", \"2017-05-31\"])\n",
    "pgA = processes.filter_bbox(pgA, west=10.288696, south=45.935871, east=12.189331, north=46.905246, crs=\"EPSG:4326\")\n",
    "\n",
    "# Choose processes\n",
    "pgA = processes.ndvi(pgA, nir=\"B08\", red=\"B04\")\n",
    "pgA = processes.min_time(pgA)\n",
    "pgA.graph"
   ]
  },
  {
   "cell_type": "code",
   "execution_count": 5,
   "metadata": {},
   "outputs": [
    {
     "data": {
      "text/plain": [
       "'jb-ad1e5ebe-15b7-4e03-950c-0e4bf7be7b47'"
      ]
     },
     "execution_count": 5,
     "metadata": {},
     "output_type": "execute_result"
    }
   ],
   "source": [
    "# Create job A out of the process graph A (pgA)\n",
    "jobA = con.create_job(pgA.graph)\n",
    "jobA_id = jobA.job_id\n",
    "jobA_id"
   ]
  },
  {
   "cell_type": "code",
   "execution_count": 6,
   "metadata": {},
   "outputs": [
    {
     "data": {
      "text/plain": [
       "202"
      ]
     },
     "execution_count": 6,
     "metadata": {},
     "output_type": "execute_result"
    }
   ],
   "source": [
    "# Start job at the backend\n",
    "jobA.start_job()"
   ]
  },
  {
   "cell_type": "code",
   "execution_count": 7,
   "metadata": {},
   "outputs": [
    {
     "data": {
      "text/plain": [
       "{'back_end_timestamp': '20190402132217.595369',\n",
       " 'code_env': ['alembic==0.9.9',\n",
       "  'amqp==1.4.9',\n",
       "  'anyjson==0.3.3',\n",
       "  'certifi==2018.8.24',\n",
       "  'cffi==1.11.5',\n",
       "  'chardet==3.0.4',\n",
       "  'enum-compat==0.0.2',\n",
       "  'eventlet==0.19.0',\n",
       "  'gevent==1.3.6',\n",
       "  'greenlet==0.4.14',\n",
       "  'idna==2.7',\n",
       "  'kombu==3.0.37',\n",
       "  'Mako==1.0.7',\n",
       "  'MarkupSafe==1.0',\n",
       "  'marshmallow==2.15.3',\n",
       "  'mock==2.0.0',\n",
       "  'nameko==2.9.0',\n",
       "  'nameko-sqlalchemy==1.4.0',\n",
       "  'path.py==11.0.1',\n",
       "  'pbr==4.0.4',\n",
       "  'psycopg2==2.7.4',\n",
       "  'pycparser==2.18',\n",
       "  'pyOpenSSL==18.0.0',\n",
       "  'python-dateutil==2.7.3',\n",
       "  'python-editor==1.0.3',\n",
       "  'PyYAML==3.12',\n",
       "  'requests==2.20.0',\n",
       "  'six==1.11.0',\n",
       "  'SQLAlchemy==1.2.8',\n",
       "  'urllib3==1.23',\n",
       "  'Werkzeug==0.14.1',\n",
       "  'wincertstore==0.2',\n",
       "  'wrapt==1.10.11',\n",
       "  'pytz==2018.7',\n",
       "  'GitPython==2.1.11',\n",
       "  'numpy==1.16.2',\n",
       "  'GDAL==2.4.0'],\n",
       " 'end_time': '2019-04-03 13:22:47.595369',\n",
       " 'input_data': 'qu-04cdfa2a-9448-497f-8d03-0d3c9fa0b737',\n",
       " 'interpreter': 'Python 3.7.1',\n",
       " 'job_id': 'jb-ad1e5ebe-15b7-4e03-950c-0e4bf7be7b47',\n",
       " 'openeo_api': '0.3.1',\n",
       " 'output_data': '5b7b2170f86b36ae38a4fcb7bc6b2cf97797bfae3720b8b630a34b333923aca7',\n",
       " 'start_time': '2019-04-02 13:22:17.595369'}"
      ]
     },
     "execution_count": 7,
     "metadata": {},
     "output_type": "execute_result"
    }
   ],
   "source": [
    "# Wait until the job execution was finished, print job description\n",
    "desc = jobA.describe_job\n",
    "while desc[\"status\"] == \"submitted\":\n",
    "    desc = jobA.describe_job\n",
    "desc[\"context_model\"]"
   ]
  },
  {
   "cell_type": "code",
   "execution_count": 8,
   "metadata": {
    "scrolled": false
   },
   "outputs": [
    {
     "data": {
      "text/plain": [
       "'http://openeo.local.127.0.0.1.nip.io/collections/qu-04cdfa2a-9448-497f-8d03-0d3c9fa0b737'"
      ]
     },
     "execution_count": 8,
     "metadata": {},
     "output_type": "execute_result"
    }
   ],
   "source": [
    "# retrieve input data pid of job A\n",
    "pidA = jobA.get_data_pid_url()\n",
    "pidA"
   ]
  },
  {
   "cell_type": "code",
   "execution_count": 9,
   "metadata": {},
   "outputs": [
    {
     "data": {
      "text/plain": [
       "{'branch': 'master',\n",
       " 'commit': '16c3b32b5cb2d92d1c32d8c1f929065ee6bf2831',\n",
       " 'timestamp': '2019-04-02 13:22:17.595369',\n",
       " 'url': 'https://github.com/bgoesswein/implementation_backend.git'}"
      ]
     },
     "execution_count": 9,
     "metadata": {},
     "output_type": "execute_result"
    }
   ],
   "source": [
    "# Get current back end version and the version of the job Execution\n",
    "versionA = jobA.get_backend_version()\n",
    "version_old = con.version()\n",
    "versionA"
   ]
  },
  {
   "cell_type": "code",
   "execution_count": 10,
   "metadata": {},
   "outputs": [
    {
     "data": {
      "text/plain": [
       "True"
      ]
     },
     "execution_count": 10,
     "metadata": {},
     "output_type": "execute_result"
    }
   ],
   "source": [
    "# Versions should be the same.\n",
    "(versionA[\"commit\"] == version_old[\"commit\"])"
   ]
  },
  {
   "cell_type": "code",
   "execution_count": 11,
   "metadata": {},
   "outputs": [
    {
     "data": {
      "text/plain": [
       "'jb-ad1e5ebe-15b7-4e03-950c-0e4bf7be7b47 using http://openeo.local.127.0.0.1.nip.io/collections/qu-04cdfa2a-9448-497f-8d03-0d3c9fa0b737'"
      ]
     },
     "execution_count": 11,
     "metadata": {},
     "output_type": "execute_result"
    }
   ],
   "source": [
    "''' 2. Publish job Id and data PID  '''\n",
    "(jobA.job_id + \" using \" + pidA)"
   ]
  },
  {
   "cell_type": "code",
   "execution_count": 12,
   "metadata": {},
   "outputs": [
    {
     "data": {
      "text/plain": [
       "' 3. Update back end version  '"
      ]
     },
     "execution_count": 12,
     "metadata": {},
     "output_type": "execute_result"
    }
   ],
   "source": [
    "''' 3. Update back end version  '''\n",
    "# Switch to the Console of the Job Instance and update the repository and create a new commit,\n",
    "# by running the following commands:\n",
    "#\n",
    "# cd implementation_backend\n",
    "# touch test\n",
    "# git add test\n",
    "# git commit -am \"changed something\""
   ]
  },
  {
   "cell_type": "code",
   "execution_count": 13,
   "metadata": {},
   "outputs": [
    {
     "data": {
      "text/plain": [
       "{'branch': 'master',\n",
       " 'commit': 'b21e383d84d81871a5aff2fe41fbaeeb8c5c7fcb',\n",
       " 'url': 'https://github.com/bgoesswein/implementation_backend.git'}"
      ]
     },
     "execution_count": 13,
     "metadata": {},
     "output_type": "execute_result"
    }
   ],
   "source": [
    "# Retrieve new back end version\n",
    "version_new = con.version()\n",
    "version_new"
   ]
  },
  {
   "cell_type": "code",
   "execution_count": 14,
   "metadata": {},
   "outputs": [
    {
     "data": {
      "text/plain": [
       "True"
      ]
     },
     "execution_count": 14,
     "metadata": {},
     "output_type": "execute_result"
    }
   ],
   "source": [
    "# The new Version should be different to the old one.\n",
    "(version_new != version_old)"
   ]
  },
  {
   "cell_type": "code",
   "execution_count": 15,
   "metadata": {},
   "outputs": [
    {
     "data": {
      "text/plain": [
       "'jb-ad1e5ebe-15b7-4e03-950c-0e4bf7be7b47'"
      ]
     },
     "execution_count": 15,
     "metadata": {},
     "output_type": "execute_result"
    }
   ],
   "source": [
    "''' 4. Get old context by the job ID  '''\n",
    "# Define Job with the job id.\n",
    "jobA2 = con.get_job(jobA_id)\n",
    "jobA2.job_id"
   ]
  },
  {
   "cell_type": "code",
   "execution_count": 16,
   "metadata": {},
   "outputs": [
    {
     "data": {
      "text/plain": [
       "{'branch': 'remotes/origin/HEAD',\n",
       " 'commit': '16c3b32b5cb2d92d1c32d8c1f929065ee6bf2831',\n",
       " 'timestamp': '2019-04-02 13:22:17.595369',\n",
       " 'url': 'https://github.com/bgoesswein/implementation_backend.git'}"
      ]
     },
     "execution_count": 16,
     "metadata": {},
     "output_type": "execute_result"
    }
   ],
   "source": [
    "# Get the version of the back end that was active during the job A execution\n",
    "versionA2 = jobA2.get_backend_version()\n",
    "versionA2"
   ]
  },
  {
   "cell_type": "code",
   "execution_count": 17,
   "metadata": {},
   "outputs": [
    {
     "data": {
      "text/plain": [
       "True"
      ]
     },
     "execution_count": 17,
     "metadata": {},
     "output_type": "execute_result"
    }
   ],
   "source": [
    "# Old Version and job A version should be the same\n",
    "(versionA2[\"commit\"] == version_old[\"commit\"] and (versionA2[\"commit\"] != version_new[\"commit\"]))"
   ]
  },
  {
   "cell_type": "code",
   "execution_count": null,
   "metadata": {},
   "outputs": [],
   "source": []
  }
 ],
 "metadata": {
  "kernelspec": {
   "display_name": "Python 3",
   "language": "python",
   "name": "python3"
  },
  "language_info": {
   "codemirror_mode": {
    "name": "ipython",
    "version": 3
   },
   "file_extension": ".py",
   "mimetype": "text/x-python",
   "name": "python",
   "nbconvert_exporter": "python",
   "pygments_lexer": "ipython3",
   "version": "3.5.6"
  }
 },
 "nbformat": 4,
 "nbformat_minor": 2
}
